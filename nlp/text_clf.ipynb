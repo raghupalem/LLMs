{
 "cells": [
  {
   "cell_type": "code",
   "execution_count": 2,
   "metadata": {},
   "outputs": [],
   "source": [
    "import numpy as np\n",
    "import pandas as pd"
   ]
  },
  {
   "cell_type": "code",
   "execution_count": 10,
   "metadata": {},
   "outputs": [],
   "source": [
    "# Load Excel data\n",
    "import pandas as pd\n",
    "\n",
    "excel_file_path = \"C:/Users/NH2395/Downloads/Group Module Level Classification_dCEO Chats.xlsx\"\n",
    "data = pd.read_excel(excel_file_path, sheet_name=0)\n"
   ]
  },
  {
   "cell_type": "code",
   "execution_count": 19,
   "metadata": {},
   "outputs": [
    {
     "data": {
      "text/html": [
       "<div>\n",
       "<style scoped>\n",
       "    .dataframe tbody tr th:only-of-type {\n",
       "        vertical-align: middle;\n",
       "    }\n",
       "\n",
       "    .dataframe tbody tr th {\n",
       "        vertical-align: top;\n",
       "    }\n",
       "\n",
       "    .dataframe thead th {\n",
       "        text-align: right;\n",
       "    }\n",
       "</style>\n",
       "<table border=\"1\" class=\"dataframe\">\n",
       "  <thead>\n",
       "    <tr style=\"text-align: right;\">\n",
       "      <th></th>\n",
       "      <th>Questions</th>\n",
       "      <th>Group Module</th>\n",
       "    </tr>\n",
       "  </thead>\n",
       "  <tbody>\n",
       "    <tr>\n",
       "      <th>0</th>\n",
       "      <td>What is programming</td>\n",
       "      <td>Irrelevant</td>\n",
       "    </tr>\n",
       "    <tr>\n",
       "      <th>1</th>\n",
       "      <td>what is BED ?</td>\n",
       "      <td>Irrelevant</td>\n",
       "    </tr>\n",
       "    <tr>\n",
       "      <th>2</th>\n",
       "      <td>What is Knowledge ?</td>\n",
       "      <td>Irrelevant</td>\n",
       "    </tr>\n",
       "    <tr>\n",
       "      <th>3</th>\n",
       "      <td>The exact place where I found</td>\n",
       "      <td>Irrelevant</td>\n",
       "    </tr>\n",
       "    <tr>\n",
       "      <th>4</th>\n",
       "      <td>what is C Program</td>\n",
       "      <td>Irrelevant</td>\n",
       "    </tr>\n",
       "  </tbody>\n",
       "</table>\n",
       "</div>"
      ],
      "text/plain": [
       "                       Questions Group Module\n",
       "0            What is programming   Irrelevant\n",
       "1                  what is BED ?   Irrelevant\n",
       "2            What is Knowledge ?   Irrelevant\n",
       "3  The exact place where I found   Irrelevant\n",
       "4             what is C Program    Irrelevant"
      ]
     },
     "execution_count": 19,
     "metadata": {},
     "output_type": "execute_result"
    }
   ],
   "source": [
    "data=data.iloc[:,1:3]\n",
    "data.head()"
   ]
  },
  {
   "cell_type": "code",
   "execution_count": 11,
   "metadata": {},
   "outputs": [
    {
     "name": "stdout",
     "output_type": "stream",
     "text": [
      "Looking in indexes: https://pypi.org/simple, https://pypi.nvidia.com\n",
      "Collecting cuml-cu11\n",
      "  Downloading cuml-cu11-23.8.0.tar.gz (6.8 kB)\n",
      "  Preparing metadata (setup.py): started\n",
      "  Preparing metadata (setup.py): finished with status 'error'\n"
     ]
    },
    {
     "name": "stderr",
     "output_type": "stream",
     "text": [
      "  error: subprocess-exited-with-error\n",
      "  \n",
      "  × python setup.py egg_info did not run successfully.\n",
      "  │ exit code: 1\n",
      "  ╰─> [16 lines of output]\n",
      "      Traceback (most recent call last):\n",
      "        File \"<string>\", line 2, in <module>\n",
      "        File \"<pip-setuptools-caller>\", line 34, in <module>\n",
      "        File \"C:\\Users\\NH2395\\AppData\\Local\\Temp\\pip-install-2u26_xbi\\cuml-cu11_db2419d0385c46e6a26bb82374edb831\\setup.py\", line 137, in <module>\n",
      "          raise RuntimeError(open(\"ERROR.txt\", \"r\").read())\n",
      "      RuntimeError:\n",
      "      ###########################################################################################\n",
      "      The package you are trying to install is only a placeholder project on PyPI.org repository.\n",
      "      This package is hosted on NVIDIA Python Package Index.\n",
      "      \n",
      "      This package can be installed as:\n",
      "      ```\n",
      "      $ pip install --extra-index-url https://pypi.nvidia.com cuml-cu11\n",
      "      ```\n",
      "      ###########################################################################################\n",
      "      \n",
      "      [end of output]\n",
      "  \n",
      "  note: This error originates from a subprocess, and is likely not a problem with pip.\n",
      "error: metadata-generation-failed\n",
      "\n",
      "× Encountered error while generating package metadata.\n",
      "╰─> See above for output.\n",
      "\n",
      "note: This is an issue with the package mentioned above, not pip.\n",
      "hint: See above for details.\n"
     ]
    }
   ],
   "source": [
    "!pip install cuml-cu11 --extra-index-url=https://pypi.nvidia.com\n"
   ]
  },
  {
   "cell_type": "code",
   "execution_count": null,
   "metadata": {},
   "outputs": [],
   "source": [
    "from bertopic import BERTopic\n",
    "\n",
    "topic_model = BERTopic(\"english\")\n",
    "topics, probs = topic_model.fit_transform(docs)\n",
    "#topic_model.push_to_hf_hub('davanstrien/transformers_issues_topics')"
   ]
  },
  {
   "cell_type": "code",
   "execution_count": 1,
   "metadata": {},
   "outputs": [
    {
     "ename": "ModuleNotFoundError",
     "evalue": "No module named 'bertopic'",
     "output_type": "error",
     "traceback": [
      "\u001b[1;31m---------------------------------------------------------------------------\u001b[0m",
      "\u001b[1;31mModuleNotFoundError\u001b[0m                       Traceback (most recent call last)",
      "Cell \u001b[1;32mIn[1], line 1\u001b[0m\n\u001b[1;32m----> 1\u001b[0m \u001b[39mfrom\u001b[39;00m \u001b[39mbertopic\u001b[39;00m \u001b[39mimport\u001b[39;00m BERTopic\n\u001b[0;32m      2\u001b[0m topic_model \u001b[39m=\u001b[39m BERTopic\u001b[39m.\u001b[39mload(\u001b[39m\"\u001b[39m\u001b[39mdavanstrien/transformers_issues_topics\u001b[39m\u001b[39m\"\u001b[39m)\n",
      "\u001b[1;31mModuleNotFoundError\u001b[0m: No module named 'bertopic'"
     ]
    }
   ],
   "source": [
    "from bertopic import BERTopic\n",
    "topic_model = BERTopic.load(\"davanstrien/transformers_issues_topics\")\n"
   ]
  },
  {
   "cell_type": "code",
   "execution_count": 3,
   "metadata": {},
   "outputs": [
    {
     "data": {
      "text/plain": [
       "(50, 9)"
      ]
     },
     "execution_count": 3,
     "metadata": {},
     "output_type": "execute_result"
    }
   ],
   "source": [
    "data = pd.read_csv('qq_data.csv')\n",
    "data.shape"
   ]
  },
  {
   "cell_type": "code",
   "execution_count": 4,
   "metadata": {},
   "outputs": [
    {
     "data": {
      "text/html": [
       "<div>\n",
       "<style scoped>\n",
       "    .dataframe tbody tr th:only-of-type {\n",
       "        vertical-align: middle;\n",
       "    }\n",
       "\n",
       "    .dataframe tbody tr th {\n",
       "        vertical-align: top;\n",
       "    }\n",
       "\n",
       "    .dataframe thead th {\n",
       "        text-align: right;\n",
       "    }\n",
       "</style>\n",
       "<table border=\"1\" class=\"dataframe\">\n",
       "  <thead>\n",
       "    <tr style=\"text-align: right;\">\n",
       "      <th></th>\n",
       "      <th>S No</th>\n",
       "      <th>Hotel_Name</th>\n",
       "      <th>Location</th>\n",
       "      <th>Country</th>\n",
       "      <th>Theme</th>\n",
       "      <th>Max_people</th>\n",
       "      <th>Rating</th>\n",
       "      <th>Rate_Card</th>\n",
       "      <th>Booking_link</th>\n",
       "    </tr>\n",
       "  </thead>\n",
       "  <tbody>\n",
       "    <tr>\n",
       "      <th>0</th>\n",
       "      <td>1</td>\n",
       "      <td>The Luxury Collection Hotels &amp; Resorts</td>\n",
       "      <td>Hyderabad</td>\n",
       "      <td>INDIA</td>\n",
       "      <td>Pixel Trotter</td>\n",
       "      <td>2</td>\n",
       "      <td>4</td>\n",
       "      <td>4500</td>\n",
       "      <td>'https://www.agoda.com/?cid=1844104'</td>\n",
       "    </tr>\n",
       "    <tr>\n",
       "      <th>1</th>\n",
       "      <td>2</td>\n",
       "      <td>Marriott</td>\n",
       "      <td>Hyderabad</td>\n",
       "      <td>INDIA</td>\n",
       "      <td>Foodiee</td>\n",
       "      <td>5</td>\n",
       "      <td>3</td>\n",
       "      <td>3800</td>\n",
       "      <td>'https://www.agoda.com/?cid=1844104'</td>\n",
       "    </tr>\n",
       "    <tr>\n",
       "      <th>2</th>\n",
       "      <td>3</td>\n",
       "      <td>Regency Hotel</td>\n",
       "      <td>Pune</td>\n",
       "      <td>INDIA</td>\n",
       "      <td>Shopping</td>\n",
       "      <td>2</td>\n",
       "      <td>4</td>\n",
       "      <td>5500</td>\n",
       "      <td>'https://www.agoda.com/?cid=1844104'</td>\n",
       "    </tr>\n",
       "    <tr>\n",
       "      <th>3</th>\n",
       "      <td>4</td>\n",
       "      <td>Hilton Walt Disney World</td>\n",
       "      <td>Vishakapatanam</td>\n",
       "      <td>INDIA</td>\n",
       "      <td>Culture Enthusiast</td>\n",
       "      <td>1</td>\n",
       "      <td>5</td>\n",
       "      <td>3300</td>\n",
       "      <td>'https://www.agoda.com/?cid=1844104'</td>\n",
       "    </tr>\n",
       "    <tr>\n",
       "      <th>4</th>\n",
       "      <td>5</td>\n",
       "      <td>Disney’s Wilderness Lodge</td>\n",
       "      <td>Tamilnadu</td>\n",
       "      <td>INDIA</td>\n",
       "      <td>Foodiee</td>\n",
       "      <td>2</td>\n",
       "      <td>3</td>\n",
       "      <td>1800</td>\n",
       "      <td>'https://www.agoda.com/?cid=1844104'</td>\n",
       "    </tr>\n",
       "  </tbody>\n",
       "</table>\n",
       "</div>"
      ],
      "text/plain": [
       "   S No                              Hotel_Name        Location Country  \\\n",
       "0     1  The Luxury Collection Hotels & Resorts       Hyderabad   INDIA   \n",
       "1     2                                Marriott       Hyderabad   INDIA   \n",
       "2     3                           Regency Hotel            Pune   INDIA   \n",
       "3     4                Hilton Walt Disney World  Vishakapatanam   INDIA   \n",
       "4     5               Disney’s Wilderness Lodge       Tamilnadu   INDIA   \n",
       "\n",
       "                Theme  Max_people  Rating  Rate_Card  \\\n",
       "0       Pixel Trotter           2       4       4500   \n",
       "1             Foodiee           5       3       3800   \n",
       "2            Shopping           2       4       5500   \n",
       "3  Culture Enthusiast           1       5       3300   \n",
       "4             Foodiee           2       3       1800   \n",
       "\n",
       "                            Booking_link  \n",
       "0  'https://www.agoda.com/?cid=1844104'   \n",
       "1  'https://www.agoda.com/?cid=1844104'   \n",
       "2  'https://www.agoda.com/?cid=1844104'   \n",
       "3  'https://www.agoda.com/?cid=1844104'   \n",
       "4  'https://www.agoda.com/?cid=1844104'   "
      ]
     },
     "execution_count": 4,
     "metadata": {},
     "output_type": "execute_result"
    }
   ],
   "source": [
    "data.head()"
   ]
  },
  {
   "cell_type": "code",
   "execution_count": 5,
   "metadata": {},
   "outputs": [
    {
     "data": {
      "text/html": [
       "<div>\n",
       "<style scoped>\n",
       "    .dataframe tbody tr th:only-of-type {\n",
       "        vertical-align: middle;\n",
       "    }\n",
       "\n",
       "    .dataframe tbody tr th {\n",
       "        vertical-align: top;\n",
       "    }\n",
       "\n",
       "    .dataframe thead th {\n",
       "        text-align: right;\n",
       "    }\n",
       "</style>\n",
       "<table border=\"1\" class=\"dataframe\">\n",
       "  <thead>\n",
       "    <tr style=\"text-align: right;\">\n",
       "      <th></th>\n",
       "      <th>S No</th>\n",
       "      <th>Hotel_Name</th>\n",
       "      <th>Location</th>\n",
       "      <th>Country</th>\n",
       "      <th>Theme</th>\n",
       "      <th>Max_people</th>\n",
       "      <th>Rating</th>\n",
       "      <th>Rate_Card</th>\n",
       "      <th>Booking_link</th>\n",
       "    </tr>\n",
       "  </thead>\n",
       "  <tbody>\n",
       "    <tr>\n",
       "      <th>27</th>\n",
       "      <td>28</td>\n",
       "      <td>Rosewood Hotels &amp; Resorts</td>\n",
       "      <td>Pune</td>\n",
       "      <td>INDIA</td>\n",
       "      <td>Foodiee</td>\n",
       "      <td>3</td>\n",
       "      <td>4</td>\n",
       "      <td>2740</td>\n",
       "      <td>'https://www.agoda.com/?cid=1844104'</td>\n",
       "    </tr>\n",
       "  </tbody>\n",
       "</table>\n",
       "</div>"
      ],
      "text/plain": [
       "    S No                 Hotel_Name Location Country    Theme  Max_people  \\\n",
       "27    28  Rosewood Hotels & Resorts     Pune   INDIA  Foodiee           3   \n",
       "\n",
       "    Rating  Rate_Card                           Booking_link  \n",
       "27       4       2740  'https://www.agoda.com/?cid=1844104'   "
      ]
     },
     "execution_count": 5,
     "metadata": {},
     "output_type": "execute_result"
    }
   ],
   "source": [
    "df=data[(data.Location == 'Pune') & (data.Theme == 'Foodiee') ]\n",
    "df"
   ]
  },
  {
   "cell_type": "code",
   "execution_count": 7,
   "metadata": {},
   "outputs": [
    {
     "data": {
      "text/plain": [
       "['Rosewood Hotels & Resorts']"
      ]
     },
     "execution_count": 7,
     "metadata": {},
     "output_type": "execute_result"
    }
   ],
   "source": [
    "df['Hotel_Name'].to_list()"
   ]
  },
  {
   "cell_type": "code",
   "execution_count": 8,
   "metadata": {},
   "outputs": [
    {
     "data": {
      "text/plain": [
       "Index(['S No', 'Hotel_Name', 'Location', 'Country', 'Theme', 'Max_people',\n",
       "       'Rating', 'Rate_Card', 'Booking_link'],\n",
       "      dtype='object')"
      ]
     },
     "execution_count": 8,
     "metadata": {},
     "output_type": "execute_result"
    }
   ],
   "source": [
    "df.columns"
   ]
  },
  {
   "cell_type": "code",
   "execution_count": null,
   "metadata": {},
   "outputs": [],
   "source": []
  }
 ],
 "metadata": {
  "kernelspec": {
   "display_name": "envllm",
   "language": "python",
   "name": "python3"
  },
  "language_info": {
   "codemirror_mode": {
    "name": "ipython",
    "version": 3
   },
   "file_extension": ".py",
   "mimetype": "text/x-python",
   "name": "python",
   "nbconvert_exporter": "python",
   "pygments_lexer": "ipython3",
   "version": "3.11.4"
  },
  "orig_nbformat": 4
 },
 "nbformat": 4,
 "nbformat_minor": 2
}
